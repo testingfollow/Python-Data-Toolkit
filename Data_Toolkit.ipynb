{
  "nbformat": 4,
  "nbformat_minor": 0,
  "metadata": {
    "colab": {
      "provenance": []
    },
    "kernelspec": {
      "name": "python3",
      "display_name": "Python 3"
    },
    "language_info": {
      "name": "python"
    }
  },
  "cells": [
    {
      "cell_type": "markdown",
      "source": [
        "# Theory Questions And Answers"
      ],
      "metadata": {
        "id": "aKH5y7cKdpdF"
      }
    },
    {
      "cell_type": "markdown",
      "source": [
        "1. What is Numpy, and why is it widely used in python.?\n",
        "  - NumPy (Numerical Python) is a powerful, open-source Python library primarily used for numerical and scientific computing. It provides support for large, multidimensional arrays and matrices, along with a collection of high-level mathematical functions to operate on these arrays."
      ],
      "metadata": {
        "id": "PcXfQLkVeKBs"
      }
    },
    {
      "cell_type": "markdown",
      "source": [
        "2.\tHow does broadcasting work in NumPy.?\n",
        "  - Broadcasting in NumPy is a mechanism that allows arithmetic operations to be performed on arrays of different shapes and sizes. It enables element-wise operations without requiring explicit loops or making unnecessary copies of data, which enhances performance and memory efficiency."
      ],
      "metadata": {
        "id": "-ieSVZk7eVwg"
      }
    },
    {
      "cell_type": "markdown",
      "source": [
        "3.\tWhat is a Pandas DataFrame.?\n",
        "  - A Pandas DataFrame is a two-dimensional, size-mutable, and potentially heterogeneous tabular data structure with labeled axes (rows and columns) in the Python programming language. It is a core component of the Pandas library, which is widely used for data manipulation and analysis."
      ],
      "metadata": {
        "id": "4eLs6hWleeYA"
      }
    },
    {
      "cell_type": "markdown",
      "source": [
        "4.\tExplain the use of the groupby() method in Pandas.?\n",
        "   - The groupby() method in Pandas is a powerful function that allows you to analyze and manipulate data by splitting a DataFrame into groups based on one or more columns, then applying operations to each of these groups, and finally combining the results into a new DataFrame or Series. This approach is often referred to as the \"split-apply-combine\" strategy."
      ],
      "metadata": {
        "id": "FXWm0X0CelfP"
      }
    },
    {
      "cell_type": "markdown",
      "source": [
        "5.\tWhy is Seaborn preferred for statistical visualizations.?\n",
        "  -                     Seaborn is a popular Python library built upon Matplotlib and seamlessly integrated with           Pandas DataFrames, simplifying the creation of complex and aesthetically appealing statistical graphics. Its specialization in statistical plotting makes it a preferred choice for:\n",
        "  -\tEase of Use: Seaborn's high-level interface and simplified syntax allow users to generate sophisticated visualizations with less code compared to Matplotlib.\n",
        " -\tAesthetic Appeal: It comes with pre-set attractive themes and color palettes, ensuring visually appealing plots without extensive customization.\n",
        " -\tDedicated Statistical Plots: Seaborn offers specialized plot types tailored for statistical analysis, like violin plots, heatmaps, pair plots, and regression plots, which are not directly available or more complex to create in Matplotlib.\n",
        " -\tStreamlined Exploratory Data Analysis (EDA): Seaborn's ability to efficiently handle and visualize distributions, relationships, and trends within datasets simplifies exploratory data analysis.\n"
      ],
      "metadata": {
        "id": "c7_ViUV3esmP"
      }
    },
    {
      "cell_type": "markdown",
      "source": [
        "6.\tWhat are the differences between NumPy arrays and Python lists.?\n",
        "   - NumPy arrays and Python lists are both used to store collections of data, but they differ significantly in their characteristics and intended use cases.\n",
        " -\tNumPy Arrays:\n",
        " -\tHomogeneous Data Types:\n",
        " -\tNumPy arrays can only store elements of the same data type (e.g., all integers, all floats). This homogeneity enables efficient storage and operations.\n",
        " -\tMemory Efficiency:\n",
        " -\tThey are significantly more memory-efficient than Python lists, especially for large datasets, as they store elements contiguously in memory.\n",
        " -\tPerformance:\n",
        " -\tOptimized for numerical computations, offering faster element-wise operations and mathematical functions due to vectorized operations implemented in C.\n",
        " -  Python Lists:\n",
        " - Heterogeneous Data Types:\n",
        "Python lists can store elements of different data types within the same list (e.g., integers, strings, and even other lists).\n",
        "Flexibility:\n",
        "Highly flexible, allowing for easy addition, removal, and modification of elements. They are dynamically sized.\n",
        "Memory Consumption:\n",
        "Generally consume more memory than NumPy arrays for numerical data, as each element is stored as a separate Python object with its own overhead.\n"
      ],
      "metadata": {
        "id": "SPsBWqZFe3gQ"
      }
    },
    {
      "cell_type": "markdown",
      "source": [
        "7.\tWhat is a heatmap, and when should it be used.?\n",
        "  - A heatmap is a visual representation of data where values are depicted using colors, typically with warmer colors (like red or orange) indicating higher values and cooler colors (like blue or green) indicating lower values. They are used to identify patterns, trends, and outliers in datasets, especially where there are two or more dimensions of data."
      ],
      "metadata": {
        "id": "E2CNQmoufwzI"
      }
    },
    {
      "cell_type": "markdown",
      "source": [
        "8.\tWhat does the term “vectorized operation” mean in NumPy.?\n",
        "  - NumPy, a \"vectorized operation\" refers to the ability to perform element-wise operations on entire arrays without the need for explicit Python for loops. Instead of iterating through each element and applying an operation individually, vectorized operations apply the operation to all elements of an array (or between corresponding elements of multiple arrays) in a single, highly optimized step."
      ],
      "metadata": {
        "id": "l90rY4Zkf7Db"
      }
    },
    {
      "cell_type": "markdown",
      "source": [
        "9.\tHow does Matplotlib differ from plotly.?\n",
        "   - Matplotlib and Plotly are both powerful Python libraries for data visualization, but they differ significantly in their primary focus and capabilities:\n",
        "   Interactivity vs. Static Plots:\n",
        "   Matplotlib: Primarily designed for creating static, publication-quality plots. While it offers some basic interactivity, its strength lies in generating images suitable for reports, papers, and presentations where user interaction is not a primary requirement.\n",
        "   Plotly: Excels at creating interactive, web-based visualizations. It allows for features like zooming, panning, hovering for detailed information, and toggling data series, making it ideal for exploratory data analysis, dashboards, and web applications.\n"
      ],
      "metadata": {
        "id": "WBYPN2Y7gDlL"
      }
    },
    {
      "cell_type": "markdown",
      "source": [
        "10.\tWhat is the significance of hierarchical indexing in Pandas.?\n",
        "  - Hierarchical indexing, also known as MultiIndex in pandas, is a significant feature that allows for the representation and manipulation of higher-dimensional data within one-dimensional Series and two-dimensional DataFrame objects."
      ],
      "metadata": {
        "id": "KlWMET4HhSDA"
      }
    },
    {
      "cell_type": "markdown",
      "source": [
        "11.\tWhat is the role of Seaborn’s pairplot() function.?\n",
        "  - Seaborn's pairplot() function serves as a powerful tool for visualizing pairwise relationships and distributions within a dataset, particularly during exploratory data analysis (EDA). Its primary role is to generate a grid of plots, where:\n",
        " - Diagonal Plots:\n",
        "Display the univariate distribution of each individual variable. By default, these are Kernel Density Estimate (KDE) plots, but they can be customized to show histograms or other distribution plots.\n",
        " - Off-Diagonal Plots:\n",
        "Illustrate the bivariate relationship between each pair of variables in the dataset. These are typically scatter plots, revealing potential correlations, clusters, or trends between different features."
      ],
      "metadata": {
        "id": "8JhOSJ_4hYe2"
      }
    },
    {
      "cell_type": "markdown",
      "source": [
        "12.\tWhat is the purpose of the describe() function in Pandas.?\n",
        "  - The describe() function in Pandas is used to generate descriptive statistics of a DataFrame or Series. Its primary purpose is to provide a quick summary of the central tendency, dispersion, and shape of the distribution of a dataset."
      ],
      "metadata": {
        "id": "ocXKwb-rhqOd"
      }
    },
    {
      "cell_type": "markdown",
      "source": [
        "13.\tWhy is handling missing data important in Pandas.?\n",
        "  - Handling missing data in Pandas is crucial for ensuring the accuracy, reliability, and usability of your data analysis and machine learning models.\n",
        "Here's why it's so important:\n",
        " Preserving data integrity and preventing bias\n",
        " -\tMissing data can skew or bias statistical analyses and machine learning models, leading to inaccurate results and misleading conclusions.\n",
        " -\tThe way missing data is handled directly impacts the quality and reliability of any analysis performed on the dataset.\n",
        " -\tIgnoring missing data, especially when it's not randomly distributed, can introduce systematic bias, impacting the representativeness of the dataset and the validity of the findings.\n"
      ],
      "metadata": {
        "id": "X-AyUMKDhwvt"
      }
    },
    {
      "cell_type": "markdown",
      "source": [
        "14.\tWhat are the benefits of using Plotly for data visualization.?\n",
        "  - Plotly offers several benefits for data visualization, making it a popular choice for creating interactive and insightful charts:\n",
        " - Interactivity:\n",
        "Plotly's core strength lies in its built-in interactivity. Visualizations automatically include features like zoom, pan, hover tooltips (displaying data on hover), and clickable legends, enabling users to explore data dynamically and gain deeper insights.\n",
        " - Wide Range of Chart Types:\n",
        "It supports a comprehensive array of chart types, from basic bar and line graphs to complex 3D plots, geographic maps, and specialized statistical charts, catering to diverse visualization needs.\n",
        " - Ease of Use and Customization:\n",
        "Plotly provides a balance between ease of use and extensive customization. Its clear syntax, particularly in Python, allows for quick creation of visualizations, while offering granular control over aesthetics like colors, fonts, labels, and annotations.\n"
      ],
      "metadata": {
        "id": "Ms5X0QHdh66c"
      }
    },
    {
      "cell_type": "markdown",
      "source": [
        "15.\tHow does NumPy handle multidimensional arrays.?\n",
        "   - NumPy's core object for handling multidimensional arrays is the ndarray. This object allows for efficient storage and manipulation of homogeneous data (all elements are of the same data type) in an n-dimensional grid."
      ],
      "metadata": {
        "id": "tV8bBZwgiLZM"
      }
    },
    {
      "cell_type": "markdown",
      "source": [
        "16.\tWhat is the role of Bokeh in data visualization.?\n",
        "   - Bokeh is an open-source Python library designed for creating interactive visualizations for modern web browsers. Its primary role in data visualization is to enable the development of dynamic and engaging plots, dashboards, and web applications directly from Python."
      ],
      "metadata": {
        "id": "5HjEG2MeiRvD"
      }
    },
    {
      "cell_type": "markdown",
      "source": [
        "17.\tExplain the difference between apply() and map() in Pandas.?\n",
        "   - In Pandas, both map() and apply() are used to apply functions or transformations to data, but they differ in their scope and typical use cases:\n",
        " - 1. map():\n",
        "Scope: Exclusively used on Series objects (e.g., a single column of a DataFrame).\n",
        "Purpose: Primarily for element-wise transformations or substitutions. It's highly efficient when you need to substitute values in a Series based on a dictionary, another Series, or a simple function.\n",
        "Input: Can accept a dictionary, a Series, or a callable (function).\n",
        "Behavior: Substitutes each value in the Series with the corresponding mapped value. If a value is not found in the mapping, it typically results in NaN.\n",
        "  - 2. apply():\n",
        " - Scope: Can be used on both Series and DataFrame objects.\n",
        "Purpose: More versatile than map(). It's used to apply a function along an axis (rows or columns) of a DataFrame or to each element of a Series. It's suitable for more complex operations, including aggregations or functions that require access to multiple elements or rows/columns.\n",
        "Input: Accepts a callable (function).\n",
        "  - Behavior:\n",
        "On a Series: Applies the function element-wise, similar to map(), but offers more flexibility in passing arguments to the function.\n",
        "On a DataFrame: Applies the function row-wise (axis=0 by default) or column-wise (axis=1). The function receives a Series (representing a row or column) as input.\n"
      ],
      "metadata": {
        "id": "vosK65rUihRC"
      }
    },
    {
      "cell_type": "markdown",
      "source": [
        "18.\tWhat are some advanced features of NumPy.?\n",
        "  - NumPy provides powerful features for efficient numerical computing beyond basic array creation and manipulation. Here are some of its advanced functionalities:\n",
        " Advanced indexing and slicing\n",
        " -\tNumPy offers sophisticated ways to select and manipulate subsets of arrays beyond simple slicing.\n",
        " -\tInteger array indexing lets you choose arbitrary elements based on multi-dimensional indices. For instance, you can select elements at specific row-column intersections using arrays of indices for both rows and columns."
      ],
      "metadata": {
        "id": "QXwxsNUEi0pJ"
      }
    },
    {
      "cell_type": "markdown",
      "source": [
        "19.\tHow does pandas simplify time series analysis.?\n",
        "  - Pandas simplifies time series analysis through its specialized data structures and functions designed to handle temporal data efficiently."
      ],
      "metadata": {
        "id": "Gpa6PHtMi8lR"
      }
    },
    {
      "cell_type": "markdown",
      "source": [
        "20.\tWhat is the role of a pivot table in Pandas.?\n",
        "  - The pivot() function is an incredibly useful tool for transforming and summarizing data. It allows you to restructure a DataFrame by turning rows into columns and columns into rows based on a specified index column, a specified columns column, and a specified values column."
      ],
      "metadata": {
        "id": "EdP8KJhcjBho"
      }
    },
    {
      "cell_type": "markdown",
      "source": [
        "21.\tWhy is NumPy’s array slicing faster than Python’s list slicing.?\n",
        "  - NumPy's array slicing is significantly faster than Python's list slicing primarily due to how NumPy arrays are designed and implemented:\n",
        " - Contiguous Memory Allocation:\n",
        "NumPy arrays store elements of the same data type in contiguous blocks of memory. This allows for efficient access and manipulation of data, as the system can quickly locate elements within a slice without having to jump around in memory. Python lists, on the other hand, can store elements of different data types and may not be contiguously allocated in memory, requiring more overhead to access elements.\n",
        " - Homogeneous Data Types:\n",
        "NumPy arrays enforce a single, fixed data type for all elements within an array. This homogeneity allows NumPy to optimize operations, including slicing, by avoiding the need for type checking during processing. Python lists can contain elements of various types, which introduces overhead for type management and reduces opportunities for optimization.\n"
      ],
      "metadata": {
        "id": "gYmSoRZJj0HV"
      }
    },
    {
      "cell_type": "markdown",
      "source": [
        "22.\tWhat are some common use cases for Seaborn.\n",
        "  - Seaborn, built on top of Matplotlib, is a powerful Python library designed for creating visually appealing and informative statistical graphics. It's widely used in data science, analytics, and machine learning for various use cases:\n",
        " -\tExploratory Data Analysis (EDA): Seaborn helps uncover patterns, relationships, and anomalies within datasets. You can use functions like pairplot() to visualize pairwise relationships between multiple variables or heatmap() to visualize correlations.\n",
        " -\tStatistical Graphics: Seaborn simplifies the creation of a wide variety of statistical plots, such as bar plots, violin plots, box plots, scatter plots, pair plots, and regression plots. These visualizations aid in understanding distributions, identifying trends, and presenting predictive models.\n"
      ],
      "metadata": {
        "id": "sQtAnmq6j9Qt"
      }
    },
    {
      "cell_type": "markdown",
      "source": [
        "# Practical Questions And Answers"
      ],
      "metadata": {
        "id": "UlEg5wKTkOD0"
      }
    },
    {
      "cell_type": "markdown",
      "source": [
        "1.\tHow do you create a 2D NumPy array and calculate the sum of each row.?"
      ],
      "metadata": {
        "id": "3N-L-cPykT0c"
      }
    },
    {
      "cell_type": "code",
      "source": [
        "import numpy as np\n",
        "\n",
        "# Creating a 2D NumPy array\n",
        "my_array = np.array([[1, 2, 3],\n",
        "                     [4, 5, 6],\n",
        "                     [7, 8, 9]])\n",
        "\n",
        "print(\"Original Array:\")\n",
        "print(my_array)\n",
        "\n",
        "# Calculating the sum of each row\n",
        "row_sums = np.sum(my_array, axis=1)\n",
        "\n",
        "print(\"Sum of each row:\", row_sums)\n"
      ],
      "metadata": {
        "id": "eNKdMpibkWtU",
        "colab": {
          "base_uri": "https://localhost:8080/"
        },
        "outputId": "51282b59-e5e0-47b0-ebcb-17e70149ede1"
      },
      "execution_count": null,
      "outputs": [
        {
          "output_type": "stream",
          "name": "stdout",
          "text": [
            "Original Array:\n",
            "[[1 2 3]\n",
            " [4 5 6]\n",
            " [7 8 9]]\n",
            "Sum of each row: [ 6 15 24]\n"
          ]
        }
      ]
    },
    {
      "cell_type": "markdown",
      "source": [
        "2.\tWrite a Pandas script to find the mean of a specific column in a DataFrame.?"
      ],
      "metadata": {
        "id": "fN9aZn_3A6wQ"
      }
    },
    {
      "cell_type": "code",
      "source": [
        "import pandas as pd\n",
        "\n",
        "# Create a sample DataFrame\n",
        "data = {'col1': [10, 20, 30, 40, 50],\n",
        "        'col2': [5, 15, 25, 35, 45],\n",
        "        'col3': [1, 2, 3, 4, 5]}\n",
        "df = pd.DataFrame(data)\n",
        "\n",
        "# Calculate the mean of 'col1'\n",
        "mean_of_col1 = df['col1'].mean()\n",
        "\n",
        "# Print the result\n",
        "print(f\"The mean of 'col1' is: {mean_of_col1}\")"
      ],
      "metadata": {
        "colab": {
          "base_uri": "https://localhost:8080/"
        },
        "id": "njG6nmQPBbUE",
        "outputId": "5c315d7f-97f1-4345-f52c-810ba569d48c"
      },
      "execution_count": null,
      "outputs": [
        {
          "output_type": "stream",
          "name": "stdout",
          "text": [
            "The mean of 'col1' is: 30.0\n"
          ]
        }
      ]
    },
    {
      "cell_type": "markdown",
      "source": [
        "3. Create a scatter plot using Matplotlib.?"
      ],
      "metadata": {
        "id": "EGMf4bB8CxLh"
      }
    },
    {
      "cell_type": "code",
      "source": [
        "import matplotlib.pyplot as plt\n",
        "import numpy as np\n",
        "\n",
        "# Generate some sample data\n",
        "np.random.seed(42) # for reproducibility\n",
        "x = np.random.rand(50) * 10\n",
        "y = np.random.rand(50) * 10\n",
        "\n",
        "# Create the scatter plot\n",
        "plt.scatter(x, y)\n",
        "\n",
        "# Add labels and a title\n",
        "plt.xlabel(\"X-axis Label\")\n",
        "plt.ylabel(\"Y-axis Label\")\n",
        "plt.title(\"Simple Scatter Plot\")\n",
        "\n",
        "# Display the plot\n",
        "plt.show()"
      ],
      "metadata": {
        "colab": {
          "base_uri": "https://localhost:8080/",
          "height": 472
        },
        "id": "fk5TyZ4-C1ux",
        "outputId": "05d04715-16b3-4948-e297-c8e9ce2b9437"
      },
      "execution_count": null,
      "outputs": [
        {
          "output_type": "display_data",
          "data": {
            "text/plain": [
              "<Figure size 640x480 with 1 Axes>"
            ],
            "image/png": "[encoded data removed]"
          },
          "metadata": {}
        }
      ]
    },
    {
      "cell_type": "markdown",
      "source": [
        "4. How do you calculate the correlation matrix using Seaborn and visualize it with a heatmap.?"
      ],
      "metadata": {
        "id": "K9BaQ3RGDDjR"
      }
    },
    {
      "cell_type": "code",
      "source": [
        "import pandas as pd\n",
        "import seaborn as sns\n",
        "import matplotlib.pyplot as plt\n",
        "\n",
        "df = sns.load_dataset('iris')\n",
        "\n",
        "# Calculate the correlation matrix\n",
        "correlation_matrix = df.corr(numeric_only=True)\n",
        "\n",
        "# Create the heatmap\n",
        "plt.figure(figsize=(8, 6))\n",
        "sns.heatmap(correlation_matrix, annot=True, cmap='coolwarm', fmt=\".2f\")\n",
        "\n",
        "# Set title for clarity\n",
        "plt.title('Correlation Matrix of Iris Dataset')\n",
        "\n",
        "# Display the heatmap\n",
        "plt.show()\n"
      ],
      "metadata": {
        "colab": {
          "base_uri": "https://localhost:8080/",
          "height": 545
        },
        "id": "rR8rPq0zDKLo",
        "outputId": "495cb123-7afc-4071-8d41-3c82a384b0ad"
      },
      "execution_count": null,
      "outputs": [
        {
          "output_type": "display_data",
          "data": {
            "text/plain": [
              "<Figure size 800x600 with 2 Axes>"
            ],
            "image/png": "[encoded data removed]"
          },
          "metadata": {}
        }
      ]
    },
    {
      "cell_type": "markdown",
      "source": [
        "5.\tGenerate a bar plot using Plotly.?"
      ],
      "metadata": {
        "id": "rgvmps_XDk95"
      }
    },
    {
      "cell_type": "code",
      "source": [
        "import plotly.express as px\n",
        "import pandas as pd\n",
        "\n",
        "# Sample data\n",
        "data = {\n",
        "    'Category': ['A', 'B', 'C', 'D', 'E'],\n",
        "    'Value': [25, 40, 30, 55, 20]\n",
        "}\n",
        "df = pd.DataFrame(data)\n",
        "\n",
        "# Create the bar plot\n",
        "fig = px.bar(df, x='Category', y='Value',\n",
        "             title='Sample Bar Plot',\n",
        "             labels={'Category': 'Product Category', 'Value': 'Sales Value'})\n",
        "\n",
        "# Display the plot\n",
        "fig.show()"
      ],
      "metadata": {
        "colab": {
          "base_uri": "https://localhost:8080/",
          "height": 542
        },
        "id": "2qTINa_4Drd3",
        "outputId": "25004c50-7531-4a17-ce1a-204759aa33b3"
      },
      "execution_count": null,
      "outputs": [
        {
          "output_type": "display_data",
          "data": {
            "text/html": [
              "<html>\n",
              "<head><meta charset=\"utf-8\" /></head>\n",
              "<body>\n",
              "    <div>            <script src=\"https://cdnjs.cloudflare.com/ajax/libs/mathjax/2.7.5/MathJax.js?config=TeX-AMS-MML_SVG\"></script><script type=\"text/javascript\">if (window.MathJax && window.MathJax.Hub && window.MathJax.Hub.Config) {window.MathJax.Hub.Config({SVG: {font: \"STIX-Web\"}});}</script>                <script type=\"text/javascript\">window.PlotlyConfig = {MathJaxConfig: 'local'};</script>\n",
              "        <script charset=\"utf-8\" src=\"https://cdn.plot.ly/plotly-2.35.2.min.js\"></script>                <div id=\"4915e8c7-9c36-41d7-bdec-85a026f69d35\" class=\"plotly-graph-div\" style=\"height:525px; width:100%;\"></div>            <script type=\"text/javascript\">                                    window.PLOTLYENV=window.PLOTLYENV || {};                                    if (document.getElementById(\"4915e8c7-9c36-41d7-bdec-85a026f69d35\")) {                    Plotly.newPlot(                        \"4915e8c7-9c36-41d7-bdec-85a026f69d35\",                        [{\"alignmentgroup\":\"True\",\"hovertemplate\":\"Product Category=%{x}\\u003cbr\\u003eSales Value=%{y}\\u003cextra\\u003e\\u003c\\u002fextra\\u003e\",\"legendgroup\":\"\",\"marker\":{\"color\":\"#636efa\",\"pattern\":{\"shape\":\"\"}},\"name\":\"\",\"offsetgroup\":\"\",\"orientation\":\"v\",\"showlegend\":false,\"textposition\":\"auto\",\"x\":[\"A\",\"B\",\"C\",\"D\",\"E\"],\"xaxis\":\"x\",\"y\":[25,40,30,55,20],\"yaxis\":\"y\",\"type\":\"bar\"}],                        {\"template\":{\"data\":{\"histogram2dcontour\":[{\"type\":\"histogram2dcontour\",\"colorbar\":{\"outlinewidth\":0,\"ticks\":\"\"},\"colorscale\":[[0.0,\"#0d0887\"],[0.1111111111111111,\"#46039f\"],[0.2222222222222222,\"#7201a8\"],[0.3333333333333333,\"#9c179e\"],[0.4444444444444444,\"#bd3786\"],[0.5555555555555556,\"#d8576b\"],[0.6666666666666666,\"#ed7953\"],[0.7777777777777778,\"#fb9f3a\"],[0.8888888888888888,\"#fdca26\"],[1.0,\"#f0f921\"]]}],\"choropleth\":[{\"type\":\"choropleth\",\"colorbar\":{\"outlinewidth\":0,\"ticks\":\"\"}}],\"histogram2d\":[{\"type\":\"histogram2d\",\"colorbar\":{\"outlinewidth\":0,\"ticks\":\"\"},\"colorscale\":[[0.0,\"#0d0887\"],[0.1111111111111111,\"#46039f\"],[0.2222222222222222,\"#7201a8\"],[0.3333333333333333,\"#9c179e\"],[0.4444444444444444,\"#bd3786\"],[0.5555555555555556,\"#d8576b\"],[0.6666666666666666,\"#ed7953\"],[0.7777777777777778,\"#fb9f3a\"],[0.8888888888888888,\"#fdca26\"],[1.0,\"#f0f921\"]]}],\"heatmap\":[{\"type\":\"heatmap\",\"colorbar\":{\"outlinewidth\":0,\"ticks\":\"\"},\"colorscale\":[[0.0,\"#0d0887\"],[0.1111111111111111,\"#46039f\"],[0.2222222222222222,\"#7201a8\"],[0.3333333333333333,\"#9c179e\"],[0.4444444444444444,\"#bd3786\"],[0.5555555555555556,\"#d8576b\"],[0.6666666666666666,\"#ed7953\"],[0.7777777777777778,\"#fb9f3a\"],[0.8888888888888888,\"#fdca26\"],[1.0,\"#f0f921\"]]}],\"heatmapgl\":[{\"type\":\"heatmapgl\",\"colorbar\":{\"outlinewidth\":0,\"ticks\":\"\"},\"colorscale\":[[0.0,\"#0d0887\"],[0.1111111111111111,\"#46039f\"],[0.2222222222222222,\"#7201a8\"],[0.3333333333333333,\"#9c179e\"],[0.4444444444444444,\"#bd3786\"],[0.5555555555555556,\"#d8576b\"],[0.6666666666666666,\"#ed7953\"],[0.7777777777777778,\"#fb9f3a\"],[0.8888888888888888,\"#fdca26\"],[1.0,\"#f0f921\"]]}],\"contourcarpet\":[{\"type\":\"contourcarpet\",\"colorbar\":{\"outlinewidth\":0,\"ticks\":\"\"}}],\"contour\":[{\"type\":\"contour\",\"colorbar\":{\"outlinewidth\":0,\"ticks\":\"\"},\"colorscale\":[[0.0,\"#0d0887\"],[0.1111111111111111,\"#46039f\"],[0.2222222222222222,\"#7201a8\"],[0.3333333333333333,\"#9c179e\"],[0.4444444444444444,\"#bd3786\"],[0.5555555555555556,\"#d8576b\"],[0.6666666666666666,\"#ed7953\"],[0.7777777777777778,\"#fb9f3a\"],[0.8888888888888888,\"#fdca26\"],[1.0,\"#f0f921\"]]}],\"surface\":[{\"type\":\"surface\",\"colorbar\":{\"outlinewidth\":0,\"ticks\":\"\"},\"colorscale\":[[0.0,\"#0d0887\"],[0.1111111111111111,\"#46039f\"],[0.2222222222222222,\"#7201a8\"],[0.3333333333333333,\"#9c179e\"],[0.4444444444444444,\"#bd3786\"],[0.5555555555555556,\"#d8576b\"],[0.6666666666666666,\"#ed7953\"],[0.7777777777777778,\"#fb9f3a\"],[0.8888888888888888,\"#fdca26\"],[1.0,\"#f0f921\"]]}],\"mesh3d\":[{\"type\":\"mesh3d\",\"colorbar\":{\"outlinewidth\":0,\"ticks\":\"\"}}],\"scatter\":[{\"fillpattern\":{\"fillmode\":\"overlay\",\"size\":10,\"solidity\":0.2},\"type\":\"scatter\"}],\"parcoords\":[{\"type\":\"parcoords\",\"line\":{\"colorbar\":{\"outlinewidth\":0,\"ticks\":\"\"}}}],\"scatterpolargl\":[{\"type\":\"scatterpolargl\",\"marker\":{\"colorbar\":{\"outlinewidth\":0,\"ticks\":\"\"}}}],\"bar\":[{\"error_x\":{\"color\":\"#2a3f5f\"},\"error_y\":{\"color\":\"#2a3f5f\"},\"marker\":{\"line\":{\"color\":\"#E5ECF6\",\"width\":0.5},\"pattern\":{\"fillmode\":\"overlay\",\"size\":10,\"solidity\":0.2}},\"type\":\"bar\"}],\"scattergeo\":[{\"type\":\"scattergeo\",\"marker\":{\"colorbar\":{\"outlinewidth\":0,\"ticks\":\"\"}}}],\"scatterpolar\":[{\"type\":\"scatterpolar\",\"marker\":{\"colorbar\":{\"outlinewidth\":0,\"ticks\":\"\"}}}],\"histogram\":[{\"marker\":{\"pattern\":{\"fillmode\":\"overlay\",\"size\":10,\"solidity\":0.2}},\"type\":\"histogram\"}],\"scattergl\":[{\"type\":\"scattergl\",\"marker\":{\"colorbar\":{\"outlinewidth\":0,\"ticks\":\"\"}}}],\"scatter3d\":[{\"type\":\"scatter3d\",\"line\":{\"colorbar\":{\"outlinewidth\":0,\"ticks\":\"\"}},\"marker\":{\"colorbar\":{\"outlinewidth\":0,\"ticks\":\"\"}}}],\"scattermapbox\":[{\"type\":\"scattermapbox\",\"marker\":{\"colorbar\":{\"outlinewidth\":0,\"ticks\":\"\"}}}],\"scatterternary\":[{\"type\":\"scatterternary\",\"marker\":{\"colorbar\":{\"outlinewidth\":0,\"ticks\":\"\"}}}],\"scattercarpet\":[{\"type\":\"scattercarpet\",\"marker\":{\"colorbar\":{\"outlinewidth\":0,\"ticks\":\"\"}}}],\"carpet\":[{\"aaxis\":{\"endlinecolor\":\"#2a3f5f\",\"gridcolor\":\"white\",\"linecolor\":\"white\",\"minorgridcolor\":\"white\",\"startlinecolor\":\"#2a3f5f\"},\"baxis\":{\"endlinecolor\":\"#2a3f5f\",\"gridcolor\":\"white\",\"linecolor\":\"white\",\"minorgridcolor\":\"white\",\"startlinecolor\":\"#2a3f5f\"},\"type\":\"carpet\"}],\"table\":[{\"cells\":{\"fill\":{\"color\":\"#EBF0F8\"},\"line\":{\"color\":\"white\"}},\"header\":{\"fill\":{\"color\":\"#C8D4E3\"},\"line\":{\"color\":\"white\"}},\"type\":\"table\"}],\"barpolar\":[{\"marker\":{\"line\":{\"color\":\"#E5ECF6\",\"width\":0.5},\"pattern\":{\"fillmode\":\"overlay\",\"size\":10,\"solidity\":0.2}},\"type\":\"barpolar\"}],\"pie\":[{\"automargin\":true,\"type\":\"pie\"}]},\"layout\":{\"autotypenumbers\":\"strict\",\"colorway\":[\"#636efa\",\"#EF553B\",\"#00cc96\",\"#ab63fa\",\"#FFA15A\",\"#19d3f3\",\"#FF6692\",\"#B6E880\",\"#FF97FF\",\"#FECB52\"],\"font\":{\"color\":\"#2a3f5f\"},\"hovermode\":\"closest\",\"hoverlabel\":{\"align\":\"left\"},\"paper_bgcolor\":\"white\",\"plot_bgcolor\":\"#E5ECF6\",\"polar\":{\"bgcolor\":\"#E5ECF6\",\"angularaxis\":{\"gridcolor\":\"white\",\"linecolor\":\"white\",\"ticks\":\"\"},\"radialaxis\":{\"gridcolor\":\"white\",\"linecolor\":\"white\",\"ticks\":\"\"}},\"ternary\":{\"bgcolor\":\"#E5ECF6\",\"aaxis\":{\"gridcolor\":\"white\",\"linecolor\":\"white\",\"ticks\":\"\"},\"baxis\":{\"gridcolor\":\"white\",\"linecolor\":\"white\",\"ticks\":\"\"},\"caxis\":{\"gridcolor\":\"white\",\"linecolor\":\"white\",\"ticks\":\"\"}},\"coloraxis\":{\"colorbar\":{\"outlinewidth\":0,\"ticks\":\"\"}},\"colorscale\":{\"sequential\":[[0.0,\"#0d0887\"],[0.1111111111111111,\"#46039f\"],[0.2222222222222222,\"#7201a8\"],[0.3333333333333333,\"#9c179e\"],[0.4444444444444444,\"#bd3786\"],[0.5555555555555556,\"#d8576b\"],[0.6666666666666666,\"#ed7953\"],[0.7777777777777778,\"#fb9f3a\"],[0.8888888888888888,\"#fdca26\"],[1.0,\"#f0f921\"]],\"sequentialminus\":[[0.0,\"#0d0887\"],[0.1111111111111111,\"#46039f\"],[0.2222222222222222,\"#7201a8\"],[0.3333333333333333,\"#9c179e\"],[0.4444444444444444,\"#bd3786\"],[0.5555555555555556,\"#d8576b\"],[0.6666666666666666,\"#ed7953\"],[0.7777777777777778,\"#fb9f3a\"],[0.8888888888888888,\"#fdca26\"],[1.0,\"#f0f921\"]],\"diverging\":[[0,\"#8e0152\"],[0.1,\"#c51b7d\"],[0.2,\"#de77ae\"],[0.3,\"#f1b6da\"],[0.4,\"#fde0ef\"],[0.5,\"#f7f7f7\"],[0.6,\"#e6f5d0\"],[0.7,\"#b8e186\"],[0.8,\"#7fbc41\"],[0.9,\"#4d9221\"],[1,\"#276419\"]]},\"xaxis\":{\"gridcolor\":\"white\",\"linecolor\":\"white\",\"ticks\":\"\",\"title\":{\"standoff\":15},\"zerolinecolor\":\"white\",\"automargin\":true,\"zerolinewidth\":2},\"yaxis\":{\"gridcolor\":\"white\",\"linecolor\":\"white\",\"ticks\":\"\",\"title\":{\"standoff\":15},\"zerolinecolor\":\"white\",\"automargin\":true,\"zerolinewidth\":2},\"scene\":{\"xaxis\":{\"backgroundcolor\":\"#E5ECF6\",\"gridcolor\":\"white\",\"linecolor\":\"white\",\"showbackground\":true,\"ticks\":\"\",\"zerolinecolor\":\"white\",\"gridwidth\":2},\"yaxis\":{\"backgroundcolor\":\"#E5ECF6\",\"gridcolor\":\"white\",\"linecolor\":\"white\",\"showbackground\":true,\"ticks\":\"\",\"zerolinecolor\":\"white\",\"gridwidth\":2},\"zaxis\":{\"backgroundcolor\":\"#E5ECF6\",\"gridcolor\":\"white\",\"linecolor\":\"white\",\"showbackground\":true,\"ticks\":\"\",\"zerolinecolor\":\"white\",\"gridwidth\":2}},\"shapedefaults\":{\"line\":{\"color\":\"#2a3f5f\"}},\"annotationdefaults\":{\"arrowcolor\":\"#2a3f5f\",\"arrowhead\":0,\"arrowwidth\":1},\"geo\":{\"bgcolor\":\"white\",\"landcolor\":\"#E5ECF6\",\"subunitcolor\":\"white\",\"showland\":true,\"showlakes\":true,\"lakecolor\":\"white\"},\"title\":{\"x\":0.05},\"mapbox\":{\"style\":\"light\"}}},\"xaxis\":{\"anchor\":\"y\",\"domain\":[0.0,1.0],\"title\":{\"text\":\"Product Category\"}},\"yaxis\":{\"anchor\":\"x\",\"domain\":[0.0,1.0],\"title\":{\"text\":\"Sales Value\"}},\"legend\":{\"tracegroupgap\":0},\"title\":{\"text\":\"Sample Bar Plot\"},\"barmode\":\"relative\"},                        {\"responsive\": true}                    ).then(function(){\n",
              "                            \n",
              "var gd = document.getElementById('4915e8c7-9c36-41d7-bdec-85a026f69d35');\n",
              "var x = new MutationObserver(function (mutations, observer) {{\n",
              "        var display = window.getComputedStyle(gd).display;\n",
              "        if (!display || display === 'none') {{\n",
              "            console.log([gd, 'removed!']);\n",
              "            Plotly.purge(gd);\n",
              "            observer.disconnect();\n",
              "        }}\n",
              "}});\n",
              "\n",
              "// Listen for the removal of the full notebook cells\n",
              "var notebookContainer = gd.closest('#notebook-container');\n",
              "if (notebookContainer) {{\n",
              "    x.observe(notebookContainer, {childList: true});\n",
              "}}\n",
              "\n",
              "// Listen for the clearing of the current output cell\n",
              "var outputEl = gd.closest('.output');\n",
              "if (outputEl) {{\n",
              "    x.observe(outputEl, {childList: true});\n",
              "}}\n",
              "\n",
              "                        })                };                            </script>        </div>\n",
              "</body>\n",
              "</html>"
            ]
          },
          "metadata": {}
        }
      ]
    },
    {
      "cell_type": "markdown",
      "source": [
        "6.\tCreate a DataFrame and add a new column based on an existing column.?"
      ],
      "metadata": {
        "id": "YjM3XZ60EFhW"
      }
    },
    {
      "cell_type": "code",
      "source": [
        "import pandas as pd\n",
        "\n",
        "# 1. Create a sample DataFrame\n",
        "data = {'Name': ['Alice', 'Bob', 'Charlie', 'David'],\n",
        "        'Age': [25, 30, 22, 35]}\n",
        "df = pd.DataFrame(data)\n",
        "\n",
        "print(\"Original DataFrame:\")\n",
        "print(df)\n",
        "\n",
        "df['Age_Category'] = df['Age'].apply(lambda x: 'Young' if x < 30 else 'Adult')\n",
        "\n",
        "print(\"\\nDataFrame with new column:\")\n",
        "print(df)\n"
      ],
      "metadata": {
        "colab": {
          "base_uri": "https://localhost:8080/"
        },
        "id": "GdRw-UldEMLW",
        "outputId": "c4d17447-7764-45ff-99fe-50d6a1833355"
      },
      "execution_count": null,
      "outputs": [
        {
          "output_type": "stream",
          "name": "stdout",
          "text": [
            "Original DataFrame:\n",
            "      Name  Age\n",
            "0    Alice   25\n",
            "1      Bob   30\n",
            "2  Charlie   22\n",
            "3    David   35\n",
            "\n",
            "DataFrame with new column:\n",
            "      Name  Age Age_Category\n",
            "0    Alice   25        Young\n",
            "1      Bob   30        Adult\n",
            "2  Charlie   22        Young\n",
            "3    David   35        Adult\n"
          ]
        }
      ]
    },
    {
      "cell_type": "markdown",
      "source": [
        "7.\tWrite a program to perform element-wise multiplication of two NumPy arrays.?"
      ],
      "metadata": {
        "id": "DtvjZVVqF7-6"
      }
    },
    {
      "cell_type": "code",
      "source": [
        "import numpy as np\n",
        "\n",
        "# Define the first NumPy array\n",
        "array1 = np.array([1, 2, 3, 4])\n",
        "\n",
        "# Define the second NumPy array\n",
        "array2 = np.array([5, 6, 7, 8])\n",
        "\n",
        "# Perform element-wise multiplication using numpy.multiply()\n",
        "result_multiply_function = np.multiply(array1, array2)\n",
        "print(f\"Result using np.multiply(): {result_multiply_function}\")\n",
        "\n",
        "# Perform element-wise multiplication using the * operator\n",
        "result_operator = array1 * array2\n",
        "print(f\"Result using * operator: {result_operator}\")"
      ],
      "metadata": {
        "colab": {
          "base_uri": "https://localhost:8080/"
        },
        "id": "bfz8oVO6F80q",
        "outputId": "0586b7f7-9d6e-4c52-83cd-04ea69984791"
      },
      "execution_count": null,
      "outputs": [
        {
          "output_type": "stream",
          "name": "stdout",
          "text": [
            "Result using np.multiply(): [ 5 12 21 32]\n",
            "Result using * operator: [ 5 12 21 32]\n"
          ]
        }
      ]
    },
    {
      "cell_type": "markdown",
      "source": [
        "8.\tCreate a line plot with multiple lines using Matplotlib.?"
      ],
      "metadata": {
        "id": "cAqOSb_TGbcB"
      }
    },
    {
      "cell_type": "code",
      "source": [
        "import matplotlib.pyplot as plt\n",
        "\n",
        "# Data for the first line\n",
        "x1 = [1, 2, 3, 4, 5]\n",
        "y1 = [2, 4, 6, 8, 10]\n",
        "\n",
        "# Data for the second line\n",
        "x2 = [1, 2, 3, 4, 5]\n",
        "y2 = [1, 3, 5, 7, 9]\n",
        "\n",
        "# Create the plot\n",
        "plt.plot(x1, y1, label='Line 1')\n",
        "plt.plot(x2, y2, label='Line 2')\n",
        "\n",
        "# Add a title and axis labels\n",
        "plt.title('Multiple Lines Plot')\n",
        "plt.xlabel('X-axis')\n",
        "plt.ylabel('Y-axis')\n",
        "\n",
        "# Add a legend to distinguish the lines\n",
        "plt.legend()\n",
        "\n",
        "# Display the plot\n",
        "plt.show()\n"
      ],
      "metadata": {
        "colab": {
          "base_uri": "https://localhost:8080/",
          "height": 472
        },
        "id": "yV0syADmGx3g",
        "outputId": "26ec4da3-6797-4865-d6cc-26575c1cb623"
      },
      "execution_count": null,
      "outputs": [
        {
          "output_type": "display_data",
          "data": {
            "text/plain": [
              "<Figure size 640x480 with 1 Axes>"
            ],
            "image/png": "[encoded data removed]"
          },
          "metadata": {}
        }
      ]
    },
    {
      "cell_type": "markdown",
      "source": [
        "9.\tGenerate a Pandas DataFrame and filter rows where a column value is greater than a threshold.?"
      ],
      "metadata": {
        "id": "rGtmsH_EG9YB"
      }
    },
    {
      "cell_type": "code",
      "source": [
        "import pandas as pd\n",
        "\n",
        "# 1. Create a Pandas DataFrame\n",
        "data = {'Name': ['Alice', 'Bob', 'Charlie', 'David', 'Eve'],\n",
        "        'Age': [25, 32, 45, 28, 50],\n",
        "        'Score': [85, 90, 78, 92, 88]}\n",
        "df = pd.DataFrame(data)\n",
        "\n",
        "print(\"Original DataFrame:\")\n",
        "print(df)\n",
        "\n",
        "# 2. Filter rows where 'Age' is greater than a threshold (e.g., 30)\n",
        "age_threshold = 30\n",
        "filtered_df = df[df['Age'] > age_threshold]\n",
        "\n",
        "print(\"\\nFiltered DataFrame (Age > 30):\")\n",
        "print(filtered_df)\n",
        "\n",
        "# 3. Filter rows where 'Score' is greater than a threshold (e.g., 85)\n",
        "score_threshold = 85\n",
        "filtered_df_score = df[df['Score'] > score_threshold]\n",
        "\n",
        "print(\"\\nFiltered DataFrame (Score > 85):\")\n",
        "print(filtered_df_score)\n"
      ],
      "metadata": {
        "colab": {
          "base_uri": "https://localhost:8080/"
        },
        "id": "0fW1vC8xHCH4",
        "outputId": "ee53c7b2-4045-41dc-96ed-560976d8c326"
      },
      "execution_count": null,
      "outputs": [
        {
          "output_type": "stream",
          "name": "stdout",
          "text": [
            "Original DataFrame:\n",
            "      Name  Age  Score\n",
            "0    Alice   25     85\n",
            "1      Bob   32     90\n",
            "2  Charlie   45     78\n",
            "3    David   28     92\n",
            "4      Eve   50     88\n",
            "\n",
            "Filtered DataFrame (Age > 30):\n",
            "      Name  Age  Score\n",
            "1      Bob   32     90\n",
            "2  Charlie   45     78\n",
            "4      Eve   50     88\n",
            "\n",
            "Filtered DataFrame (Score > 85):\n",
            "    Name  Age  Score\n",
            "1    Bob   32     90\n",
            "3  David   28     92\n",
            "4    Eve   50     88\n"
          ]
        }
      ]
    },
    {
      "cell_type": "markdown",
      "source": [
        "10.\tCreate a histogram using Seaborn to visualize a distribution.?"
      ],
      "metadata": {
        "id": "bGoNHdKWHd93"
      }
    },
    {
      "cell_type": "code",
      "source": [
        "import seaborn as sns\n",
        "import matplotlib.pyplot as plt\n",
        "\n",
        "# Load the tips dataset\n",
        "tips = sns.load_dataset(\"tips\")\n",
        "\n",
        "# Create a histogram with KDE and custom color\n",
        "sns.histplot(data=tips, x=\"total_bill\", kde=True, color=\"skyblue\")\n",
        "\n",
        "# Add labels and a title\n",
        "plt.title(\"Distribution of Total Bill Amounts\")\n",
        "plt.xlabel(\"Total Bill ($)\")\n",
        "plt.ylabel(\"Frequency\")\n",
        "\n",
        "# Display the plot\n",
        "plt.show()\n"
      ],
      "metadata": {
        "colab": {
          "base_uri": "https://localhost:8080/",
          "height": 472
        },
        "id": "-PjyWxK9Hh6m",
        "outputId": "c9dde244-821f-48cc-e0c6-5b01f7a0c1c6"
      },
      "execution_count": null,
      "outputs": [
        {
          "output_type": "display_data",
          "data": {
            "text/plain": [
              "<Figure size 640x480 with 1 Axes>"
            ],
            "image/png": "[encoded data removed]"
          },
          "metadata": {}
        }
      ]
    },
    {
      "cell_type": "markdown",
      "source": [
        "11.\tPerform matrix multiplication using NumPy.?"
      ],
      "metadata": {
        "id": "WDWPnR59Huem"
      }
    },
    {
      "cell_type": "code",
      "source": [
        "import numpy as np\n",
        "\n",
        "# Create two 2x2 matrices\n",
        "matrix_a = np.array([[1, 2], [3, 4]])\n",
        "matrix_b = np.array([[5, 6], [7, 8]])\n",
        "\n",
        "# Perform matrix multiplication using matmul()\n",
        "product = np.matmul(matrix_a, matrix_b)\n",
        "print(\"Using np.matmul():\\n\", product)\n",
        "\n",
        "# Perform matrix multiplication using the @ operator\n",
        "product_alt = matrix_a @ matrix_b\n",
        "print(\"\\nUsing the @ operator:\\n\", product_alt)\n"
      ],
      "metadata": {
        "colab": {
          "base_uri": "https://localhost:8080/"
        },
        "id": "YumlSnTkHzJ2",
        "outputId": "b25a1b40-2f23-48ff-ce72-1882e70e7f93"
      },
      "execution_count": null,
      "outputs": [
        {
          "output_type": "stream",
          "name": "stdout",
          "text": [
            "Using np.matmul():\n",
            " [[19 22]\n",
            " [43 50]]\n",
            "\n",
            "Using the @ operator:\n",
            " [[19 22]\n",
            " [43 50]]\n"
          ]
        }
      ]
    },
    {
      "cell_type": "markdown",
      "source": [
        "12.\tUse Pandas to load a CSV file and display its first 5 rows.?"
      ],
      "metadata": {
        "id": "VBcdjelfH-61"
      }
    },
    {
      "cell_type": "code",
      "source": [
        "from google.colab import files\n",
        "uploaded = files.upload()"
      ],
      "metadata": {
        "colab": {
          "base_uri": "https://localhost:8080/",
          "height": 73
        },
        "id": "9mU9lddZIDLu",
        "outputId": "b0037c92-39ee-4a93-b463-809a1afca8ff"
      },
      "execution_count": null,
      "outputs": [
        {
          "output_type": "display_data",
          "data": {
            "text/plain": [
              "<IPython.core.display.HTML object>"
            ],
            "text/html": [
              "\n",
              "     <input type=\"file\" id=\"files-44b2dfd5-5740-4c34-9ad2-27fe9dc1f4c4\" name=\"files[]\" multiple disabled\n",
              "        style=\"border:none\" />\n",
              "     <output id=\"result-44b2dfd5-5740-4c34-9ad2-27fe9dc1f4c4\">\n",
              "      Upload widget is only available when the cell has been executed in the\n",
              "      current browser session. Please rerun this cell to enable.\n",
              "      </output>\n",
              "      <script>// Copyright 2017 Google LLC\n",
              "//\n",
              "// Licensed under the Apache License, Version 2.0 (the \"License\");\n",
              "// you may not use this file except in compliance with the License.\n",
              "// You may obtain a copy of the License at\n",
              "//\n",
              "//      http://www.apache.org/licenses/LICENSE-2.0\n",
              "//\n",
              "// Unless required by applicable law or agreed to in writing, software\n",
              "// distributed under the License is distributed on an \"AS IS\" BASIS,\n",
              "// WITHOUT WARRANTIES OR CONDITIONS OF ANY KIND, either express or implied.\n",
              "// See the License for the specific language governing permissions and\n",
              "// limitations under the License.\n",
              "\n",
              "/**\n",
              " * @fileoverview Helpers for google.colab Python module.\n",
              " */\n",
              "(function(scope) {\n",
              "function span(text, styleAttributes = {}) {\n",
              "  const element = document.createElement('span');\n",
              "  element.textContent = text;\n",
              "  for (const key of Object.keys(styleAttributes)) {\n",
              "    element.style[key] = styleAttributes[key];\n",
              "  }\n",
              "  return element;\n",
              "}\n",
              "\n",
              "// Max number of bytes which will be uploaded at a time.\n",
              "const MAX_PAYLOAD_SIZE = 100 * 1024;\n",
              "\n",
              "function _uploadFiles(inputId, outputId) {\n",
              "  const steps = uploadFilesStep(inputId, outputId);\n",
              "  const outputElement = document.getElementById(outputId);\n",
              "  // Cache steps on the outputElement to make it available for the next call\n",
              "  // to uploadFilesContinue from Python.\n",
              "  outputElement.steps = steps;\n",
              "\n",
              "  return _uploadFilesContinue(outputId);\n",
              "}\n",
              "\n",
              "// This is roughly an async generator (not supported in the browser yet),\n",
              "// where there are multiple asynchronous steps and the Python side is going\n",
              "// to poll for completion of each step.\n",
              "// This uses a Promise to block the python side on completion of each step,\n",
              "// then passes the result of the previous step as the input to the next step.\n",
              "function _uploadFilesContinue(outputId) {\n",
              "  const outputElement = document.getElementById(outputId);\n",
              "  const steps = outputElement.steps;\n",
              "\n",
              "  const next = steps.next(outputElement.lastPromiseValue);\n",
              "  return Promise.resolve(next.value.promise).then((value) => {\n",
              "    // Cache the last promise value to make it available to the next\n",
              "    // step of the generator.\n",
              "    outputElement.lastPromiseValue = value;\n",
              "    return next.value.response;\n",
              "  });\n",
              "}\n",
              "\n",
              "/**\n",
              " * Generator function which is called between each async step of the upload\n",
              " * process.\n",
              " * @param {string} inputId Element ID of the input file picker element.\n",
              " * @param {string} outputId Element ID of the output display.\n",
              " * @return {!Iterable<!Object>} Iterable of next steps.\n",
              " */\n",
              "function* uploadFilesStep(inputId, outputId) {\n",
              "  const inputElement = document.getElementById(inputId);\n",
              "  inputElement.disabled = false;\n",
              "\n",
              "  const outputElement = document.getElementById(outputId);\n",
              "  outputElement.innerHTML = '';\n",
              "\n",
              "  const pickedPromise = new Promise((resolve) => {\n",
              "    inputElement.addEventListener('change', (e) => {\n",
              "      resolve(e.target.files);\n",
              "    });\n",
              "  });\n",
              "\n",
              "  const cancel = document.createElement('button');\n",
              "  inputElement.parentElement.appendChild(cancel);\n",
              "  cancel.textContent = 'Cancel upload';\n",
              "  const cancelPromise = new Promise((resolve) => {\n",
              "    cancel.onclick = () => {\n",
              "      resolve(null);\n",
              "    };\n",
              "  });\n",
              "\n",
              "  // Wait for the user to pick the files.\n",
              "  const files = yield {\n",
              "    promise: Promise.race([pickedPromise, cancelPromise]),\n",
              "    response: {\n",
              "      action: 'starting',\n",
              "    }\n",
              "  };\n",
              "\n",
              "  cancel.remove();\n",
              "\n",
              "  // Disable the input element since further picks are not allowed.\n",
              "  inputElement.disabled = true;\n",
              "\n",
              "  if (!files) {\n",
              "    return {\n",
              "      response: {\n",
              "        action: 'complete',\n",
              "      }\n",
              "    };\n",
              "  }\n",
              "\n",
              "  for (const file of files) {\n",
              "    const li = document.createElement('li');\n",
              "    li.append(span(file.name, {fontWeight: 'bold'}));\n",
              "    li.append(span(\n",
              "        `(${file.type || 'n/a'}) - ${file.size} bytes, ` +\n",
              "        `last modified: ${\n",
              "            file.lastModifiedDate ? file.lastModifiedDate.toLocaleDateString() :\n",
              "                                    'n/a'} - `));\n",
              "    const percent = span('0% done');\n",
              "    li.appendChild(percent);\n",
              "\n",
              "    outputElement.appendChild(li);\n",
              "\n",
              "    const fileDataPromise = new Promise((resolve) => {\n",
              "      const reader = new FileReader();\n",
              "      reader.onload = (e) => {\n",
              "        resolve(e.target.result);\n",
              "      };\n",
              "      reader.readAsArrayBuffer(file);\n",
              "    });\n",
              "    // Wait for the data to be ready.\n",
              "    let fileData = yield {\n",
              "      promise: fileDataPromise,\n",
              "      response: {\n",
              "        action: 'continue',\n",
              "      }\n",
              "    };\n",
              "\n",
              "    // Use a chunked sending to avoid message size limits. See b/62115660.\n",
              "    let position = 0;\n",
              "    do {\n",
              "      const length = Math.min(fileData.byteLength - position, MAX_PAYLOAD_SIZE);\n",
              "      const chunk = new Uint8Array(fileData, position, length);\n",
              "      position += length;\n",
              "\n",
              "      const base64 = btoa(String.fromCharCode.apply(null, chunk));\n",
              "      yield {\n",
              "        response: {\n",
              "          action: 'append',\n",
              "          file: file.name,\n",
              "          data: base64,\n",
              "        },\n",
              "      };\n",
              "\n",
              "      let percentDone = fileData.byteLength === 0 ?\n",
              "          100 :\n",
              "          Math.round((position / fileData.byteLength) * 100);\n",
              "      percent.textContent = `${percentDone}% done`;\n",
              "\n",
              "    } while (position < fileData.byteLength);\n",
              "  }\n",
              "\n",
              "  // All done.\n",
              "  yield {\n",
              "    response: {\n",
              "      action: 'complete',\n",
              "    }\n",
              "  };\n",
              "}\n",
              "\n",
              "scope.google = scope.google || {};\n",
              "scope.google.colab = scope.google.colab || {};\n",
              "scope.google.colab._files = {\n",
              "  _uploadFiles,\n",
              "  _uploadFilesContinue,\n",
              "};\n",
              "})(self);\n",
              "</script> "
            ]
          },
          "metadata": {}
        },
        {
          "output_type": "stream",
          "name": "stdout",
          "text": [
            "Saving student.csv to student.csv\n"
          ]
        }
      ]
    },
    {
      "cell_type": "code",
      "source": [
        "import pandas as pd\n",
        "df = pd.read_csv('student.csv')\n",
        "print(df.head())"
      ],
      "metadata": {
        "colab": {
          "base_uri": "https://localhost:8080/"
        },
        "id": "ySgDFtG7SLb-",
        "outputId": "45604d1f-adae-4ae9-dd6e-0e1ea9f7c1cb"
      },
      "execution_count": null,
      "outputs": [
        {
          "output_type": "stream",
          "name": "stdout",
          "text": [
            "      Name  Age  Grade\n",
            "0    Alice   10      5\n",
            "1      Bob   11      6\n",
            "2  Charlie    9      4\n",
            "3    David   12      7\n",
            "4      Eve   10      5\n"
          ]
        }
      ]
    },
    {
      "cell_type": "markdown",
      "source": [
        "13.\tCreate a 3D scatter plot using Plotly.?"
      ],
      "metadata": {
        "id": "Xy5STB3wKbxY"
      }
    },
    {
      "cell_type": "code",
      "source": [
        "import plotly.express as px\n",
        "import pandas as pd\n",
        "\n",
        "# Load the Iris dataset\n",
        "df = px.data.iris()\n",
        "\n",
        "# Create the 3D scatter plot\n",
        "fig = px.scatter_3d(df, x=\"sepal_width\", y=\"sepal_length\", z=\"petal_length\",\n",
        "                    color=\"species\",\n",
        "                    symbol=\"species\",\n",
        "                    title=\"Iris Measurements in 3-D\",\n",
        "                    labels={\n",
        "                        \"sepal_width\": \"Sepal Width (cm)\",\n",
        "                        \"sepal_length\": \"Sepal Length (cm)\",\n",
        "                        \"petal_length\": \"Petal Length (cm)\",\n",
        "                        \"species\": \"Species\"\n",
        "                    }) # Set axis labels\n",
        "\n",
        "# Customize aesthetics (optional)\n",
        "fig.update_traces(marker=dict(opacity=0.8, line=dict(width=0.5, color='DarkSlateGrey')))\n",
        "fig.update_layout(margin=dict(l=0, r=0, b=0, t=40))\n",
        "\n",
        "# Show the plot\n",
        "fig.show()\n"
      ],
      "metadata": {
        "colab": {
          "base_uri": "https://localhost:8080/",
          "height": 542
        },
        "id": "W7XqsnjWKkoI",
        "outputId": "094e0d8b-ecec-4aeb-9b6d-ff0b7604b102"
      },
      "execution_count": null,
      "outputs": [
        {
          "output_type": "display_data",
          "data": {
            "text/html": [
              "<html>\n",
              "<head><meta charset=\"utf-8\" /></head>\n",
              "<body>\n",
              "    <div>            <script src=\"https://cdnjs.cloudflare.com/ajax/libs/mathjax/2.7.5/MathJax.js?config=TeX-AMS-MML_SVG\"></script><script type=\"text/javascript\">if (window.MathJax && window.MathJax.Hub && window.MathJax.Hub.Config) {window.MathJax.Hub.Config({SVG: {font: \"STIX-Web\"}});}</script>                <script type=\"text/javascript\">window.PlotlyConfig = {MathJaxConfig: 'local'};</script>\n",
              "        <script charset=\"utf-8\" src=\"https://cdn.plot.ly/plotly-2.35.2.min.js\"></script>                <div id=\"1b9e747a-ca0e-414d-bf6c-450e0bd5c8d7\" class=\"plotly-graph-div\" style=\"height:525px; width:100%;\"></div>            <script type=\"text/javascript\">                                    window.PLOTLYENV=window.PLOTLYENV || {};                                    if (document.getElementById(\"1b9e747a-ca0e-414d-bf6c-450e0bd5c8d7\")) {                    Plotly.newPlot(                        \"1b9e747a-ca0e-414d-bf6c-450e0bd5c8d7\",                        [{\"hovertemplate\":\"Species=setosa\\u003cbr\\u003eSepal Width (cm)=%{x}\\u003cbr\\u003eSepal Length (cm)=%{y}\\u003cbr\\u003ePetal Length (cm)=%{z}\\u003cextra\\u003e\\u003c\\u002fextra\\u003e\",\"legendgroup\":\"setosa\",\"marker\":{\"color\":\"#636efa\",\"symbol\":\"circle\",\"line\":{\"color\":\"DarkSlateGrey\",\"width\":0.5},\"opacity\":0.8},\"mode\":\"markers\",\"name\":\"setosa\",\"scene\":\"scene\",\"showlegend\":true,\"x\":[3.5,3.0,3.2,3.1,3.6,3.9,3.4,3.4,2.9,3.1,3.7,3.4,3.0,3.0,4.0,4.4,3.9,3.5,3.8,3.8,3.4,3.7,3.6,3.3,3.4,3.0,3.4,3.5,3.4,3.2,3.1,3.4,4.1,4.2,3.1,3.2,3.5,3.1,3.0,3.4,3.5,2.3,3.2,3.5,3.8,3.0,3.8,3.2,3.7,3.3],\"y\":[5.1,4.9,4.7,4.6,5.0,5.4,4.6,5.0,4.4,4.9,5.4,4.8,4.8,4.3,5.8,5.7,5.4,5.1,5.7,5.1,5.4,5.1,4.6,5.1,4.8,5.0,5.0,5.2,5.2,4.7,4.8,5.4,5.2,5.5,4.9,5.0,5.5,4.9,4.4,5.1,5.0,4.5,4.4,5.0,5.1,4.8,5.1,4.6,5.3,5.0],\"z\":[1.4,1.4,1.3,1.5,1.4,1.7,1.4,1.5,1.4,1.5,1.5,1.6,1.4,1.1,1.2,1.5,1.3,1.4,1.7,1.5,1.7,1.5,1.0,1.7,1.9,1.6,1.6,1.5,1.4,1.6,1.6,1.5,1.5,1.4,1.5,1.2,1.3,1.5,1.3,1.5,1.3,1.3,1.3,1.6,1.9,1.4,1.6,1.4,1.5,1.4],\"type\":\"scatter3d\"},{\"hovertemplate\":\"Species=versicolor\\u003cbr\\u003eSepal Width (cm)=%{x}\\u003cbr\\u003eSepal Length (cm)=%{y}\\u003cbr\\u003ePetal Length (cm)=%{z}\\u003cextra\\u003e\\u003c\\u002fextra\\u003e\",\"legendgroup\":\"versicolor\",\"marker\":{\"color\":\"#EF553B\",\"symbol\":\"diamond\",\"line\":{\"color\":\"DarkSlateGrey\",\"width\":0.5},\"opacity\":0.8},\"mode\":\"markers\",\"name\":\"versicolor\",\"scene\":\"scene\",\"showlegend\":true,\"x\":[3.2,3.2,3.1,2.3,2.8,2.8,3.3,2.4,2.9,2.7,2.0,3.0,2.2,2.9,2.9,3.1,3.0,2.7,2.2,2.5,3.2,2.8,2.5,2.8,2.9,3.0,2.8,3.0,2.9,2.6,2.4,2.4,2.7,2.7,3.0,3.4,3.1,2.3,3.0,2.5,2.6,3.0,2.6,2.3,2.7,3.0,2.9,2.9,2.5,2.8],\"y\":[7.0,6.4,6.9,5.5,6.5,5.7,6.3,4.9,6.6,5.2,5.0,5.9,6.0,6.1,5.6,6.7,5.6,5.8,6.2,5.6,5.9,6.1,6.3,6.1,6.4,6.6,6.8,6.7,6.0,5.7,5.5,5.5,5.8,6.0,5.4,6.0,6.7,6.3,5.6,5.5,5.5,6.1,5.8,5.0,5.6,5.7,5.7,6.2,5.1,5.7],\"z\":[4.7,4.5,4.9,4.0,4.6,4.5,4.7,3.3,4.6,3.9,3.5,4.2,4.0,4.7,3.6,4.4,4.5,4.1,4.5,3.9,4.8,4.0,4.9,4.7,4.3,4.4,4.8,5.0,4.5,3.5,3.8,3.7,3.9,5.1,4.5,4.5,4.7,4.4,4.1,4.0,4.4,4.6,4.0,3.3,4.2,4.2,4.2,4.3,3.0,4.1],\"type\":\"scatter3d\"},{\"hovertemplate\":\"Species=virginica\\u003cbr\\u003eSepal Width (cm)=%{x}\\u003cbr\\u003eSepal Length (cm)=%{y}\\u003cbr\\u003ePetal Length (cm)=%{z}\\u003cextra\\u003e\\u003c\\u002fextra\\u003e\",\"legendgroup\":\"virginica\",\"marker\":{\"color\":\"#00cc96\",\"symbol\":\"square\",\"line\":{\"color\":\"DarkSlateGrey\",\"width\":0.5},\"opacity\":0.8},\"mode\":\"markers\",\"name\":\"virginica\",\"scene\":\"scene\",\"showlegend\":true,\"x\":[3.3,2.7,3.0,2.9,3.0,3.0,2.5,2.9,2.5,3.6,3.2,2.7,3.0,2.5,2.8,3.2,3.0,3.8,2.6,2.2,3.2,2.8,2.8,2.7,3.3,3.2,2.8,3.0,2.8,3.0,2.8,3.8,2.8,2.8,2.6,3.0,3.4,3.1,3.0,3.1,3.1,3.1,2.7,3.2,3.3,3.0,2.5,3.0,3.4,3.0],\"y\":[6.3,5.8,7.1,6.3,6.5,7.6,4.9,7.3,6.7,7.2,6.5,6.4,6.8,5.7,5.8,6.4,6.5,7.7,7.7,6.0,6.9,5.6,7.7,6.3,6.7,7.2,6.2,6.1,6.4,7.2,7.4,7.9,6.4,6.3,6.1,7.7,6.3,6.4,6.0,6.9,6.7,6.9,5.8,6.8,6.7,6.7,6.3,6.5,6.2,5.9],\"z\":[6.0,5.1,5.9,5.6,5.8,6.6,4.5,6.3,5.8,6.1,5.1,5.3,5.5,5.0,5.1,5.3,5.5,6.7,6.9,5.0,5.7,4.9,6.7,4.9,5.7,6.0,4.8,4.9,5.6,5.8,6.1,6.4,5.6,5.1,5.6,6.1,5.6,5.5,4.8,5.4,5.6,5.1,5.1,5.9,5.7,5.2,5.0,5.2,5.4,5.1],\"type\":\"scatter3d\"}],                        {\"template\":{\"data\":{\"histogram2dcontour\":[{\"type\":\"histogram2dcontour\",\"colorbar\":{\"outlinewidth\":0,\"ticks\":\"\"},\"colorscale\":[[0.0,\"#0d0887\"],[0.1111111111111111,\"#46039f\"],[0.2222222222222222,\"#7201a8\"],[0.3333333333333333,\"#9c179e\"],[0.4444444444444444,\"#bd3786\"],[0.5555555555555556,\"#d8576b\"],[0.6666666666666666,\"#ed7953\"],[0.7777777777777778,\"#fb9f3a\"],[0.8888888888888888,\"#fdca26\"],[1.0,\"#f0f921\"]]}],\"choropleth\":[{\"type\":\"choropleth\",\"colorbar\":{\"outlinewidth\":0,\"ticks\":\"\"}}],\"histogram2d\":[{\"type\":\"histogram2d\",\"colorbar\":{\"outlinewidth\":0,\"ticks\":\"\"},\"colorscale\":[[0.0,\"#0d0887\"],[0.1111111111111111,\"#46039f\"],[0.2222222222222222,\"#7201a8\"],[0.3333333333333333,\"#9c179e\"],[0.4444444444444444,\"#bd3786\"],[0.5555555555555556,\"#d8576b\"],[0.6666666666666666,\"#ed7953\"],[0.7777777777777778,\"#fb9f3a\"],[0.8888888888888888,\"#fdca26\"],[1.0,\"#f0f921\"]]}],\"heatmap\":[{\"type\":\"heatmap\",\"colorbar\":{\"outlinewidth\":0,\"ticks\":\"\"},\"colorscale\":[[0.0,\"#0d0887\"],[0.1111111111111111,\"#46039f\"],[0.2222222222222222,\"#7201a8\"],[0.3333333333333333,\"#9c179e\"],[0.4444444444444444,\"#bd3786\"],[0.5555555555555556,\"#d8576b\"],[0.6666666666666666,\"#ed7953\"],[0.7777777777777778,\"#fb9f3a\"],[0.8888888888888888,\"#fdca26\"],[1.0,\"#f0f921\"]]}],\"heatmapgl\":[{\"type\":\"heatmapgl\",\"colorbar\":{\"outlinewidth\":0,\"ticks\":\"\"},\"colorscale\":[[0.0,\"#0d0887\"],[0.1111111111111111,\"#46039f\"],[0.2222222222222222,\"#7201a8\"],[0.3333333333333333,\"#9c179e\"],[0.4444444444444444,\"#bd3786\"],[0.5555555555555556,\"#d8576b\"],[0.6666666666666666,\"#ed7953\"],[0.7777777777777778,\"#fb9f3a\"],[0.8888888888888888,\"#fdca26\"],[1.0,\"#f0f921\"]]}],\"contourcarpet\":[{\"type\":\"contourcarpet\",\"colorbar\":{\"outlinewidth\":0,\"ticks\":\"\"}}],\"contour\":[{\"type\":\"contour\",\"colorbar\":{\"outlinewidth\":0,\"ticks\":\"\"},\"colorscale\":[[0.0,\"#0d0887\"],[0.1111111111111111,\"#46039f\"],[0.2222222222222222,\"#7201a8\"],[0.3333333333333333,\"#9c179e\"],[0.4444444444444444,\"#bd3786\"],[0.5555555555555556,\"#d8576b\"],[0.6666666666666666,\"#ed7953\"],[0.7777777777777778,\"#fb9f3a\"],[0.8888888888888888,\"#fdca26\"],[1.0,\"#f0f921\"]]}],\"surface\":[{\"type\":\"surface\",\"colorbar\":{\"outlinewidth\":0,\"ticks\":\"\"},\"colorscale\":[[0.0,\"#0d0887\"],[0.1111111111111111,\"#46039f\"],[0.2222222222222222,\"#7201a8\"],[0.3333333333333333,\"#9c179e\"],[0.4444444444444444,\"#bd3786\"],[0.5555555555555556,\"#d8576b\"],[0.6666666666666666,\"#ed7953\"],[0.7777777777777778,\"#fb9f3a\"],[0.8888888888888888,\"#fdca26\"],[1.0,\"#f0f921\"]]}],\"mesh3d\":[{\"type\":\"mesh3d\",\"colorbar\":{\"outlinewidth\":0,\"ticks\":\"\"}}],\"scatter\":[{\"fillpattern\":{\"fillmode\":\"overlay\",\"size\":10,\"solidity\":0.2},\"type\":\"scatter\"}],\"parcoords\":[{\"type\":\"parcoords\",\"line\":{\"colorbar\":{\"outlinewidth\":0,\"ticks\":\"\"}}}],\"scatterpolargl\":[{\"type\":\"scatterpolargl\",\"marker\":{\"colorbar\":{\"outlinewidth\":0,\"ticks\":\"\"}}}],\"bar\":[{\"error_x\":{\"color\":\"#2a3f5f\"},\"error_y\":{\"color\":\"#2a3f5f\"},\"marker\":{\"line\":{\"color\":\"#E5ECF6\",\"width\":0.5},\"pattern\":{\"fillmode\":\"overlay\",\"size\":10,\"solidity\":0.2}},\"type\":\"bar\"}],\"scattergeo\":[{\"type\":\"scattergeo\",\"marker\":{\"colorbar\":{\"outlinewidth\":0,\"ticks\":\"\"}}}],\"scatterpolar\":[{\"type\":\"scatterpolar\",\"marker\":{\"colorbar\":{\"outlinewidth\":0,\"ticks\":\"\"}}}],\"histogram\":[{\"marker\":{\"pattern\":{\"fillmode\":\"overlay\",\"size\":10,\"solidity\":0.2}},\"type\":\"histogram\"}],\"scattergl\":[{\"type\":\"scattergl\",\"marker\":{\"colorbar\":{\"outlinewidth\":0,\"ticks\":\"\"}}}],\"scatter3d\":[{\"type\":\"scatter3d\",\"line\":{\"colorbar\":{\"outlinewidth\":0,\"ticks\":\"\"}},\"marker\":{\"colorbar\":{\"outlinewidth\":0,\"ticks\":\"\"}}}],\"scattermapbox\":[{\"type\":\"scattermapbox\",\"marker\":{\"colorbar\":{\"outlinewidth\":0,\"ticks\":\"\"}}}],\"scatterternary\":[{\"type\":\"scatterternary\",\"marker\":{\"colorbar\":{\"outlinewidth\":0,\"ticks\":\"\"}}}],\"scattercarpet\":[{\"type\":\"scattercarpet\",\"marker\":{\"colorbar\":{\"outlinewidth\":0,\"ticks\":\"\"}}}],\"carpet\":[{\"aaxis\":{\"endlinecolor\":\"#2a3f5f\",\"gridcolor\":\"white\",\"linecolor\":\"white\",\"minorgridcolor\":\"white\",\"startlinecolor\":\"#2a3f5f\"},\"baxis\":{\"endlinecolor\":\"#2a3f5f\",\"gridcolor\":\"white\",\"linecolor\":\"white\",\"minorgridcolor\":\"white\",\"startlinecolor\":\"#2a3f5f\"},\"type\":\"carpet\"}],\"table\":[{\"cells\":{\"fill\":{\"color\":\"#EBF0F8\"},\"line\":{\"color\":\"white\"}},\"header\":{\"fill\":{\"color\":\"#C8D4E3\"},\"line\":{\"color\":\"white\"}},\"type\":\"table\"}],\"barpolar\":[{\"marker\":{\"line\":{\"color\":\"#E5ECF6\",\"width\":0.5},\"pattern\":{\"fillmode\":\"overlay\",\"size\":10,\"solidity\":0.2}},\"type\":\"barpolar\"}],\"pie\":[{\"automargin\":true,\"type\":\"pie\"}]},\"layout\":{\"autotypenumbers\":\"strict\",\"colorway\":[\"#636efa\",\"#EF553B\",\"#00cc96\",\"#ab63fa\",\"#FFA15A\",\"#19d3f3\",\"#FF6692\",\"#B6E880\",\"#FF97FF\",\"#FECB52\"],\"font\":{\"color\":\"#2a3f5f\"},\"hovermode\":\"closest\",\"hoverlabel\":{\"align\":\"left\"},\"paper_bgcolor\":\"white\",\"plot_bgcolor\":\"#E5ECF6\",\"polar\":{\"bgcolor\":\"#E5ECF6\",\"angularaxis\":{\"gridcolor\":\"white\",\"linecolor\":\"white\",\"ticks\":\"\"},\"radialaxis\":{\"gridcolor\":\"white\",\"linecolor\":\"white\",\"ticks\":\"\"}},\"ternary\":{\"bgcolor\":\"#E5ECF6\",\"aaxis\":{\"gridcolor\":\"white\",\"linecolor\":\"white\",\"ticks\":\"\"},\"baxis\":{\"gridcolor\":\"white\",\"linecolor\":\"white\",\"ticks\":\"\"},\"caxis\":{\"gridcolor\":\"white\",\"linecolor\":\"white\",\"ticks\":\"\"}},\"coloraxis\":{\"colorbar\":{\"outlinewidth\":0,\"ticks\":\"\"}},\"colorscale\":{\"sequential\":[[0.0,\"#0d0887\"],[0.1111111111111111,\"#46039f\"],[0.2222222222222222,\"#7201a8\"],[0.3333333333333333,\"#9c179e\"],[0.4444444444444444,\"#bd3786\"],[0.5555555555555556,\"#d8576b\"],[0.6666666666666666,\"#ed7953\"],[0.7777777777777778,\"#fb9f3a\"],[0.8888888888888888,\"#fdca26\"],[1.0,\"#f0f921\"]],\"sequentialminus\":[[0.0,\"#0d0887\"],[0.1111111111111111,\"#46039f\"],[0.2222222222222222,\"#7201a8\"],[0.3333333333333333,\"#9c179e\"],[0.4444444444444444,\"#bd3786\"],[0.5555555555555556,\"#d8576b\"],[0.6666666666666666,\"#ed7953\"],[0.7777777777777778,\"#fb9f3a\"],[0.8888888888888888,\"#fdca26\"],[1.0,\"#f0f921\"]],\"diverging\":[[0,\"#8e0152\"],[0.1,\"#c51b7d\"],[0.2,\"#de77ae\"],[0.3,\"#f1b6da\"],[0.4,\"#fde0ef\"],[0.5,\"#f7f7f7\"],[0.6,\"#e6f5d0\"],[0.7,\"#b8e186\"],[0.8,\"#7fbc41\"],[0.9,\"#4d9221\"],[1,\"#276419\"]]},\"xaxis\":{\"gridcolor\":\"white\",\"linecolor\":\"white\",\"ticks\":\"\",\"title\":{\"standoff\":15},\"zerolinecolor\":\"white\",\"automargin\":true,\"zerolinewidth\":2},\"yaxis\":{\"gridcolor\":\"white\",\"linecolor\":\"white\",\"ticks\":\"\",\"title\":{\"standoff\":15},\"zerolinecolor\":\"white\",\"automargin\":true,\"zerolinewidth\":2},\"scene\":{\"xaxis\":{\"backgroundcolor\":\"#E5ECF6\",\"gridcolor\":\"white\",\"linecolor\":\"white\",\"showbackground\":true,\"ticks\":\"\",\"zerolinecolor\":\"white\",\"gridwidth\":2},\"yaxis\":{\"backgroundcolor\":\"#E5ECF6\",\"gridcolor\":\"white\",\"linecolor\":\"white\",\"showbackground\":true,\"ticks\":\"\",\"zerolinecolor\":\"white\",\"gridwidth\":2},\"zaxis\":{\"backgroundcolor\":\"#E5ECF6\",\"gridcolor\":\"white\",\"linecolor\":\"white\",\"showbackground\":true,\"ticks\":\"\",\"zerolinecolor\":\"white\",\"gridwidth\":2}},\"shapedefaults\":{\"line\":{\"color\":\"#2a3f5f\"}},\"annotationdefaults\":{\"arrowcolor\":\"#2a3f5f\",\"arrowhead\":0,\"arrowwidth\":1},\"geo\":{\"bgcolor\":\"white\",\"landcolor\":\"#E5ECF6\",\"subunitcolor\":\"white\",\"showland\":true,\"showlakes\":true,\"lakecolor\":\"white\"},\"title\":{\"x\":0.05},\"mapbox\":{\"style\":\"light\"}}},\"scene\":{\"domain\":{\"x\":[0.0,1.0],\"y\":[0.0,1.0]},\"xaxis\":{\"title\":{\"text\":\"Sepal Width (cm)\"}},\"yaxis\":{\"title\":{\"text\":\"Sepal Length (cm)\"}},\"zaxis\":{\"title\":{\"text\":\"Petal Length (cm)\"}}},\"legend\":{\"title\":{\"text\":\"Species\"},\"tracegroupgap\":0},\"title\":{\"text\":\"Iris Measurements in 3-D\"},\"margin\":{\"l\":0,\"r\":0,\"b\":0,\"t\":40}},                        {\"responsive\": true}                    ).then(function(){\n",
              "                            \n",
              "var gd = document.getElementById('1b9e747a-ca0e-414d-bf6c-450e0bd5c8d7');\n",
              "var x = new MutationObserver(function (mutations, observer) {{\n",
              "        var display = window.getComputedStyle(gd).display;\n",
              "        if (!display || display === 'none') {{\n",
              "            console.log([gd, 'removed!']);\n",
              "            Plotly.purge(gd);\n",
              "            observer.disconnect();\n",
              "        }}\n",
              "}});\n",
              "\n",
              "// Listen for the removal of the full notebook cells\n",
              "var notebookContainer = gd.closest('#notebook-container');\n",
              "if (notebookContainer) {{\n",
              "    x.observe(notebookContainer, {childList: true});\n",
              "}}\n",
              "\n",
              "// Listen for the clearing of the current output cell\n",
              "var outputEl = gd.closest('.output');\n",
              "if (outputEl) {{\n",
              "    x.observe(outputEl, {childList: true});\n",
              "}}\n",
              "\n",
              "                        })                };                            </script>        </div>\n",
              "</body>\n",
              "</html>"
            ]
          },
          "metadata": {}
        }
      ]
    }
  ]
}